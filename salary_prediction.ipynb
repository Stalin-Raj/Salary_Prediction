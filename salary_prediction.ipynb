{
  "nbformat": 4,
  "nbformat_minor": 0,
  "metadata": {
    "colab": {
      "name": "salary_prediction.ipynb",
      "provenance": [],
      "collapsed_sections": []
    },
    "kernelspec": {
      "display_name": "Python 3",
      "name": "python3"
    }
  },
  "cells": [
    {
      "cell_type": "markdown",
      "metadata": {
        "id": "NlUltKBmS87i"
      },
      "source": [
        "##IMPORTING THE NEEDED MODULES"
      ]
    },
    {
      "cell_type": "code",
      "metadata": {
        "id": "JGrYq8TYrf25"
      },
      "source": [
        "import pandas as pd\r\n",
        "import numpy as np\r\n",
        "import seaborn as sns\r\n",
        "import matplotlib.pyplot as plt\r\n",
        "%matplotlib inline\r\n",
        "\r\n",
        "\r\n",
        "\r\n",
        "\r\n",
        "\r\n",
        "from sklearn import metrics\r\n",
        "import math\r\n",
        "print(math.sqrt(metrics.mean_squared_error(y_test,predict)))\r\n",
        "salary.describe()"
      ],
      "execution_count": null,
      "outputs": []
    },
    {
      "cell_type": "markdown",
      "metadata": {
        "id": "zuR6ARwwTGIT"
      },
      "source": [
        "##READING THE CSV FILE"
      ]
    },
    {
      "cell_type": "code",
      "metadata": {
        "id": "q-9BUeEajlfN"
      },
      "source": [
        "salary=pd.read_csv(\"Salary.csv\")"
      ],
      "execution_count": null,
      "outputs": []
    },
    {
      "cell_type": "markdown",
      "metadata": {
        "id": "UGy14VB7XbI9"
      },
      "source": [
        "##ANALYZING THE DATA"
      ]
    },
    {
      "cell_type": "code",
      "metadata": {
        "colab": {
          "base_uri": "https://localhost:8080/"
        },
        "id": "hLBUsqR5j-qI",
        "outputId": "75b6aff3-ff1b-4796-b570-dc762b9efbb0"
      },
      "source": [
        "salary.columns"
      ],
      "execution_count": 12,
      "outputs": [
        {
          "output_type": "execute_result",
          "data": {
            "text/plain": [
              "Index(['YearsExperience', 'Salary'], dtype='object')"
            ]
          },
          "metadata": {
            "tags": []
          },
          "execution_count": 12
        }
      ]
    },
    {
      "cell_type": "code",
      "metadata": {
        "colab": {
          "base_uri": "https://localhost:8080/",
          "height": 111
        },
        "id": "3syKr1mVkF_W",
        "outputId": "8afcf0fd-9574-48ca-8cd9-41afb54ad53d"
      },
      "source": [
        "salary.corr()"
      ],
      "execution_count": 14,
      "outputs": [
        {
          "output_type": "execute_result",
          "data": {
            "text/html": [
              "<div>\n",
              "<style scoped>\n",
              "    .dataframe tbody tr th:only-of-type {\n",
              "        vertical-align: middle;\n",
              "    }\n",
              "\n",
              "    .dataframe tbody tr th {\n",
              "        vertical-align: top;\n",
              "    }\n",
              "\n",
              "    .dataframe thead th {\n",
              "        text-align: right;\n",
              "    }\n",
              "</style>\n",
              "<table border=\"1\" class=\"dataframe\">\n",
              "  <thead>\n",
              "    <tr style=\"text-align: right;\">\n",
              "      <th></th>\n",
              "      <th>YearsExperience</th>\n",
              "      <th>Salary</th>\n",
              "    </tr>\n",
              "  </thead>\n",
              "  <tbody>\n",
              "    <tr>\n",
              "      <th>YearsExperience</th>\n",
              "      <td>1.000000</td>\n",
              "      <td>0.982427</td>\n",
              "    </tr>\n",
              "    <tr>\n",
              "      <th>Salary</th>\n",
              "      <td>0.982427</td>\n",
              "      <td>1.000000</td>\n",
              "    </tr>\n",
              "  </tbody>\n",
              "</table>\n",
              "</div>"
            ],
            "text/plain": [
              "                 YearsExperience    Salary\n",
              "YearsExperience         1.000000  0.982427\n",
              "Salary                  0.982427  1.000000"
            ]
          },
          "metadata": {
            "tags": []
          },
          "execution_count": 14
        }
      ]
    },
    {
      "cell_type": "code",
      "metadata": {
        "colab": {
          "base_uri": "https://localhost:8080/",
          "height": 286
        },
        "id": "8PpSaiy4lXQD",
        "outputId": "7b274ce6-860d-41b5-be2d-ea22a24f5412"
      },
      "source": [
        "sns.heatmap(salary.corr(),annot=True)"
      ],
      "execution_count": 16,
      "outputs": [
        {
          "output_type": "execute_result",
          "data": {
            "text/plain": [
              "<matplotlib.axes._subplots.AxesSubplot at 0x7efc089057f0>"
            ]
          },
          "metadata": {
            "tags": []
          },
          "execution_count": 16
        },
        {
          "output_type": "display_data",
          "data": {
            "image/png": "[encoded data removed]",
            "text/plain": [
              "<Figure size 432x288 with 2 Axes>"
            ]
          },
          "metadata": {
            "tags": [],
            "needs_background": "light"
          }
        }
      ]
    },
    {
      "cell_type": "code",
      "metadata": {
        "colab": {
          "base_uri": "https://localhost:8080/",
          "height": 391
        },
        "id": "xPaI1EDElBBS",
        "outputId": "ffd01261-1fc7-41b7-9206-48435f5849a7"
      },
      "source": [
        "sns.pairplot(salary)"
      ],
      "execution_count": 15,
      "outputs": [
        {
          "output_type": "execute_result",
          "data": {
            "text/plain": [
              "<seaborn.axisgrid.PairGrid at 0x7efc11ed6320>"
            ]
          },
          "metadata": {
            "tags": []
          },
          "execution_count": 15
        },
        {
          "output_type": "display_data",
          "data": {
            "image/png": "[encoded data removed]",
            "text/plain": [
              "<Figure size 360x360 with 6 Axes>"
            ]
          },
          "metadata": {
            "tags": [],
            "needs_background": "light"
          }
        }
      ]
    },
    {
      "cell_type": "markdown",
      "metadata": {
        "id": "ZQqxK3Pzafqo"
      },
      "source": [
        "##SEPERATING DEPENDENT AND INDEPENDENT ATTRIBUTES"
      ]
    },
    {
      "cell_type": "code",
      "metadata": {
        "id": "OAmGgRFVlxEz"
      },
      "source": [
        "X=salary['YearsExperience']\r\n",
        "y=salary['Salary']"
      ],
      "execution_count": 17,
      "outputs": []
    },
    {
      "cell_type": "markdown",
      "metadata": {
        "id": "ErE1WLDUbjXQ"
      },
      "source": [
        "##TRAIN AND TEST SPLIT"
      ]
    },
    {
      "cell_type": "code",
      "metadata": {
        "id": "7MgzlnMzl4g4"
      },
      "source": [
        "from sklearn.model_selection import train_test_split\r\n",
        "X_train, X_test, y_train, y_test = train_test_split(X, y, test_size=0.33, random_state=42)\r\n",
        "X_train, X_test, y_train,y_test=np.array(X_train),np.array(X_test),np.array(y_train),np.array(y_test)\r\n",
        "X_train=X_train.reshape(-1,1)\r\n",
        "y_train=y_train.reshape(-1,1)\r\n",
        "X_test=X_test.reshape(-1,1)"
      ],
      "execution_count": 38,
      "outputs": []
    },
    {
      "cell_type": "markdown",
      "metadata": {
        "id": "T3-vSeKwoxG0"
      },
      "source": [
        "##TRAIN AND TEST SET EVALUATION"
      ]
    },
    {
      "cell_type": "code",
      "metadata": {
        "id": "Xbirk619pFA6"
      },
      "source": [
        "from sklearn import metrics\r\n",
        "import math\r\n",
        "def evaluation(actual,predicted):\r\n",
        "  print(\"MEAN ABSOLUTE ERROR \",metrics.mean_absolute_error(actual,predicted))\r\n",
        "  print(\"MEAN SQUARED ERROR \",metrics.mean_squared_error(actual,predicted))\r\n",
        "  print(\"ROOT MEAN SQUARED ERROR \",math.sqrt(metrics.mean_squared_error(actual,predicted)))\r\n",
        "\r\n"
      ],
      "execution_count": 21,
      "outputs": []
    },
    {
      "cell_type": "markdown",
      "metadata": {
        "id": "0T5blcgklbsJ"
      },
      "source": [
        "##LINEAR REGRESSION"
      ]
    },
    {
      "cell_type": "code",
      "metadata": {
        "id": "jh6b3edGnMHy"
      },
      "source": [
        "from sklearn.linear_model import LinearRegression\r\n",
        "lm=LinearRegression()\r\n",
        "lm.fit(X_train,y_train)\r\n",
        "predicted=lm.predict(X_test)"
      ],
      "execution_count": 24,
      "outputs": []
    },
    {
      "cell_type": "markdown",
      "metadata": {
        "id": "G4Af_QArmEpS"
      },
      "source": [
        "##PLOTTING ACTUAL VS PREDICTED"
      ]
    },
    {
      "cell_type": "code",
      "metadata": {
        "colab": {
          "base_uri": "https://localhost:8080/",
          "height": 282
        },
        "id": "osfjue9doeKX",
        "outputId": "ce8664b9-86a7-4447-928c-37223719c110"
      },
      "source": [
        "plt.scatter(y_test,predicted)"
      ],
      "execution_count": 27,
      "outputs": [
        {
          "output_type": "execute_result",
          "data": {
            "text/plain": [
              "<matplotlib.collections.PathCollection at 0x7efc088b6828>"
            ]
          },
          "metadata": {
            "tags": []
          },
          "execution_count": 27
        },
        {
          "output_type": "display_data",
          "data": {
            "image/png": "[encoded data removed]",
            "text/plain": [
              "<Figure size 432x288 with 1 Axes>"
            ]
          },
          "metadata": {
            "tags": [],
            "needs_background": "light"
          }
        }
      ]
    },
    {
      "cell_type": "markdown",
      "metadata": {
        "id": "M8UPRFtg1TKj"
      },
      "source": [
        "##EVALUATION"
      ]
    },
    {
      "cell_type": "code",
      "metadata": {
        "colab": {
          "base_uri": "https://localhost:8080/"
        },
        "id": "x-scfSCUq7jr",
        "outputId": "6518ccc8-7ec6-4ab1-d77f-44dc42920972"
      },
      "source": [
        "print(\"Train Set evaluation \")\r\n",
        "predict=lm.predict(X_train)\r\n",
        "evaluation(y_train,predict)\r\n",
        "print(\"Test Set evaluation \")\r\n",
        "predict=lm.predict(X_test)\r\n",
        "evaluation(y_test,predict)"
      ],
      "execution_count": 48,
      "outputs": [
        {
          "output_type": "stream",
          "text": [
            "Train Set evaluation \n",
            "MEAN ABSOLUTE ERROR  4347.759763536826\n",
            "MEAN SQUARED ERROR  29396319.784376252\n",
            "ROOT MEAN SQUARED ERROR  5421.837307073705\n",
            "Test Set evaluation \n",
            "MEAN ABSOLUTE ERROR  6254.425890647661\n",
            "MEAN SQUARED ERROR  46147614.51999701\n",
            "ROOT MEAN SQUARED ERROR  6793.203553552404\n"
          ],
          "name": "stdout"
        }
      ]
    },
    {
      "cell_type": "markdown",
      "metadata": {
        "id": "4l9ZsCHC2NNk"
      },
      "source": [
        "##RANDOM FOREST"
      ]
    },
    {
      "cell_type": "code",
      "metadata": {
        "colab": {
          "base_uri": "https://localhost:8080/"
        },
        "id": "u5USznP3rNwx",
        "outputId": "a754b905-a043-432d-d238-31507656e0b4"
      },
      "source": [
        "from sklearn.ensemble import RandomForestRegressor\r\n",
        "rf=RandomForestRegressor()\r\n",
        "rf.fit(X_train,y_train)"
      ],
      "execution_count": 46,
      "outputs": [
        {
          "output_type": "stream",
          "text": [
            "/usr/local/lib/python3.6/dist-packages/ipykernel_launcher.py:3: DataConversionWarning: A column-vector y was passed when a 1d array was expected. Please change the shape of y to (n_samples,), for example using ravel().\n",
            "  This is separate from the ipykernel package so we can avoid doing imports until\n"
          ],
          "name": "stderr"
        },
        {
          "output_type": "execute_result",
          "data": {
            "text/plain": [
              "RandomForestRegressor(bootstrap=True, ccp_alpha=0.0, criterion='mse',\n",
              "                      max_depth=None, max_features='auto', max_leaf_nodes=None,\n",
              "                      max_samples=None, min_impurity_decrease=0.0,\n",
              "                      min_impurity_split=None, min_samples_leaf=1,\n",
              "                      min_samples_split=2, min_weight_fraction_leaf=0.0,\n",
              "                      n_estimators=100, n_jobs=None, oob_score=False,\n",
              "                      random_state=None, verbose=0, warm_start=False)"
            ]
          },
          "metadata": {
            "tags": []
          },
          "execution_count": 46
        }
      ]
    },
    {
      "cell_type": "code",
      "metadata": {
        "colab": {
          "base_uri": "https://localhost:8080/"
        },
        "id": "EzuNatGormAD",
        "outputId": "bb8b3714-b6e6-4f40-a4c2-2bc0ab52adbf"
      },
      "source": [
        "print(\"Train Set evaluation \")\r\n",
        "predict=lm.predict(X_train)\r\n",
        "evaluation(y_train,predict)\r\n",
        "print(\"Test Set evaluation \")\r\n",
        "predict=lm.predict(X_test)\r\n",
        "evaluation(y_test,predict)"
      ],
      "execution_count": 47,
      "outputs": [
        {
          "output_type": "stream",
          "text": [
            "Train Set evaluation \n",
            "MEAN ABSOLUTE ERROR  4347.759763536826\n",
            "MEAN SQUARED ERROR  29396319.784376252\n",
            "ROOT MEAN SQUARED ERROR  5421.837307073705\n",
            "Test Set evaluation \n",
            "MEAN ABSOLUTE ERROR  6254.425890647661\n",
            "MEAN SQUARED ERROR  46147614.51999701\n",
            "ROOT MEAN SQUARED ERROR  6793.203553552404\n"
          ],
          "name": "stdout"
        }
      ]
    },
    {
      "cell_type": "markdown",
      "metadata": {
        "id": "BHQg0-a74cfl"
      },
      "source": [
        "##SUPPORT VECTOR MACHINE"
      ]
    },
    {
      "cell_type": "code",
      "metadata": {
        "colab": {
          "base_uri": "https://localhost:8080/"
        },
        "id": "7nPGvhT1rsBd",
        "outputId": "29d63bd4-556a-4a6d-9392-9ddeab6a0456"
      },
      "source": [
        "from sklearn.svm import SVR\r\n",
        "sv=SVR()\r\n",
        "sv.fit(X_train,y_train)"
      ],
      "execution_count": 44,
      "outputs": [
        {
          "output_type": "stream",
          "text": [
            "/usr/local/lib/python3.6/dist-packages/sklearn/utils/validation.py:760: DataConversionWarning: A column-vector y was passed when a 1d array was expected. Please change the shape of y to (n_samples, ), for example using ravel().\n",
            "  y = column_or_1d(y, warn=True)\n"
          ],
          "name": "stderr"
        },
        {
          "output_type": "execute_result",
          "data": {
            "text/plain": [
              "SVR(C=1.0, cache_size=200, coef0=0.0, degree=3, epsilon=0.1, gamma='scale',\n",
              "    kernel='rbf', max_iter=-1, shrinking=True, tol=0.001, verbose=False)"
            ]
          },
          "metadata": {
            "tags": []
          },
          "execution_count": 44
        }
      ]
    },
    {
      "cell_type": "code",
      "metadata": {
        "colab": {
          "base_uri": "https://localhost:8080/"
        },
        "id": "bK_1zEJCr24L",
        "outputId": "ce83b062-941c-4976-e479-21680adbf43f"
      },
      "source": [
        "print(\"Train Set evaluation \")\r\n",
        "predict=lm.predict(X_train)\r\n",
        "evaluation(y_train,predict)\r\n",
        "print(\"Test Set evaluation \")\r\n",
        "predict=lm.predict(X_test)\r\n",
        "evaluation(y_test,predict)"
      ],
      "execution_count": 45,
      "outputs": [
        {
          "output_type": "stream",
          "text": [
            "Train Set evaluation \n",
            "MEAN ABSOLUTE ERROR  4347.759763536826\n",
            "MEAN SQUARED ERROR  29396319.784376252\n",
            "ROOT MEAN SQUARED ERROR  5421.837307073705\n",
            "Test Set evaluation \n",
            "MEAN ABSOLUTE ERROR  6254.425890647661\n",
            "MEAN SQUARED ERROR  46147614.51999701\n",
            "ROOT MEAN SQUARED ERROR  6793.203553552404\n"
          ],
          "name": "stdout"
        }
      ]
    }
  ]
}